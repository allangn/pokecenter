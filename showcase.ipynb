{
 "cells": [
  {
   "attachments": {},
   "cell_type": "markdown",
   "metadata": {},
   "source": [
    "### **Goals set for the case by myself**:\n",
    "Create a scalable, easily understandable solution and have some fun (by learning something new).\n",
    "\n",
    "### **Agenda**\n",
    "1. My process and choices\n",
    "2. Assumptions\n",
    "3. The PokeGraphql class\n",
    "4. Solving the case\n",
    "5. Pseudonymization\n"
   ]
  },
  {
   "attachments": {},
   "cell_type": "markdown",
   "metadata": {},
   "source": [
    "### **The Request**\n",
    "The investor requested *name*, *id*, *base_experience*, *weight*, *height*, *types* and *order* of all Pokémon that \n",
    "appear in the any of the games red, blue, leafgreen or white.\n",
    "\n",
    "#### **Follow up questions with investor:**\n",
    "- When you say \"All Pokemon that appear in any of the games, can you specify?\"\n",
    "    - *All Pokemon, that can appear through evolution, gifts, trading, and encounters*\n",
    "<br>\n",
    "<br>\n",
    "- The front_default sprite has gone through several iterations, which do you prefer?\n",
    "    - *The newest*\n",
    "<br>\n",
    "<br>\n",
    "- In which format do want the data to be delivered?\n",
    "    - *In a tabular format*\n",
    "<br>\n",
    "\n",
    "#### **The request as a Graphql query**\n",
    "*queries/request.graphql*\n",
    "```GraphQL\n",
    "query InvestorRequest {\n",
    "  pokemon_v2_pokemon(where: {pokemon_v2_pokemongameindices: {pokemon_v2_version: {name: {_in: ['red', 'blue', 'leafgreen', 'white']}}}}) {\n",
    "    order\n",
    "    height\n",
    "    base_experience\n",
    "    id\n",
    "    name\n",
    "    weight\n",
    "    pokemon_v2_pokemontypes {\n",
    "      pokemon_v2_type {\n",
    "        name\n",
    "      }\n",
    "    }\n",
    "  }\n",
    "}\n",
    "```"
   ]
  },
  {
   "cell_type": "code",
   "execution_count": null,
   "metadata": {},
   "outputs": [],
   "source": [
    "from pokegraphql import PokeGraphql"
   ]
  },
  {
   "cell_type": "code",
   "execution_count": null,
   "metadata": {},
   "outputs": [],
   "source": [
    "with open(\"queries/request.graphql\") as file:\n",
    "    query = file.read()\n",
    "\n",
    "pql = PokeGraphql(query)\n",
    "\n",
    "pql.df.head()"
   ]
  },
  {
   "attachments": {},
   "cell_type": "markdown",
   "metadata": {},
   "source": [
    "#### **Format**"
   ]
  },
  {
   "cell_type": "code",
   "execution_count": null,
   "metadata": {},
   "outputs": [],
   "source": [
    "pql.expand_nested()\n",
    "df = pql.df\n",
    "df.columns = df.columns.str.replace(\"pokemon_v2_pokemon_|pokemon_v2_pokemon\", \"\", regex=True)\n",
    "df.rename({\"types_0_pokemon_v2_type.name\": \"type_0\", \"types_1_pokemon_v2_type.name\":\"type_1\"}, inplace=True, axis=1)\n",
    "df[\"name\"] = df[\"name\"].str.capitalize()\n",
    "df.head(10)"
   ]
  },
  {
   "attachments": {},
   "cell_type": "markdown",
   "metadata": {},
   "source": [
    "#### **Example: Input Agnostic**\n",
    "\n",
    "```GraphQL\n",
    "query Example {\n",
    "  pokemon_v2_pokemontypepast {\n",
    "    generation_id\n",
    "    pokemon_v2_pokemon {\n",
    "      name\n",
    "      id\n",
    "    }\n",
    "    pokemon_v2_type {\n",
    "      name\n",
    "    }\n",
    "  }\n",
    "}\n",
    "\n",
    "```"
   ]
  },
  {
   "cell_type": "code",
   "execution_count": null,
   "metadata": {},
   "outputs": [],
   "source": [
    "with open(\"queries/pokepasttypes.graphql\") as file:\n",
    "    query = file.read()\n",
    "\n",
    "diff_input = PokeGraphql(query)\n",
    "diff_input.expand_nested()\n",
    "diff_input.df.columns = diff_input.df.columns.str.replace(\"pokemon_v2_pokemontypepast_\", \"\", regex=True)\n",
    "diff_input.df.head()"
   ]
  },
  {
   "attachments": {},
   "cell_type": "markdown",
   "metadata": {},
   "source": [
    "#### **Calculate BMI**"
   ]
  },
  {
   "cell_type": "code",
   "execution_count": null,
   "metadata": {},
   "outputs": [],
   "source": [
    "df[\"bmi\"] = df[\"weight\"] / df[\"height\"]\n",
    "df.head()"
   ]
  },
  {
   "attachments": {},
   "cell_type": "markdown",
   "metadata": {},
   "source": [
    "#### **Create front_default sprite url**\n",
    "The URIs from the graphql beta are invalid, redirecting to the old location of the image files. Luckily the new url structure is based on the the id. So 25.png will get:\n",
    "\n",
    "![alt text](https://raw.githubusercontent.com/PokeAPI/sprites/master/sprites/pokemon/25.png \"Pikachu\")"
   ]
  },
  {
   "cell_type": "code",
   "execution_count": null,
   "metadata": {},
   "outputs": [],
   "source": [
    "df[\"front_default_sprite\"] = \"https://raw.githubusercontent.com/PokeAPI/sprites/master/sprites/pokemon/\" + df[\"id\"].astype(str) + \".png\"\n",
    "df.head()"
   ]
  },
  {
   "cell_type": "code",
   "execution_count": null,
   "metadata": {},
   "outputs": [],
   "source": [
    "df.to_parquet(\"pokemon.parquet\", index=False)\n",
    "#All parquet viewers in vscode are broken...\n",
    "df.to_csv(\"pokemon.csv\", index=False)"
   ]
  },
  {
   "attachments": {},
   "cell_type": "markdown",
   "metadata": {},
   "source": [
    "### **Pseudonymisation**\n",
    "\"Begrebet pseudonymisering er i databeskyttelsesforordningen defineret som behandling af personoplysninger på en sådan måde, at personoplysningerne ikke længere kan henføres til en bestemt registreret uden brug af supplerende oplysninger, forudsat at sådanne supplerende oplysninger opbevares separat og er underlagt tekniske og organisatoriske foranstaltninger for at sikre, at personoplysningerne ikke henføres til en identificeret eller identificerbar fysisk person.\" kilde: https://www.datatilsynet.dk/hvad-siger-reglerne/grundlaeggende-begreber/hvad-er-personoplysninger"
   ]
  },
  {
   "cell_type": "code",
   "execution_count": null,
   "metadata": {},
   "outputs": [],
   "source": [
    "import hashlib\n",
    "def pseudonymize_name(name, salt):\n",
    "    encoded_str = f\"{salt}{name}\".encode(\"utf8\")\n",
    "    return hashlib.sha256(encoded_str).hexdigest()\n",
    "\n",
    "pseu_df = df.copy(deep=False)\n",
    "\n",
    "#Would normally come from a secret manager\n",
    "salt = \"p1k4chu\"\n",
    "\n",
    "identifiers = [\"order\", \"id\", \"name\", \"front_default_sprite\"]\n",
    "for id in identifiers: \n",
    "    pseu_df[id] = df[id].apply(lambda x: pseudonymize_name(x, salt))\n",
    "\n",
    "pseu_df.head()"
   ]
  },
  {
   "attachments": {},
   "cell_type": "markdown",
   "metadata": {},
   "source": [
    "#### **Quasi-identifiers**"
   ]
  },
  {
   "cell_type": "code",
   "execution_count": null,
   "metadata": {},
   "outputs": [],
   "source": [
    "%matplotlib inline\n",
    "import pandas as pd\n",
    "res = df[\"height\"].value_counts()\n",
    "res.plot(kind=\"hist\")"
   ]
  },
  {
   "cell_type": "code",
   "execution_count": null,
   "metadata": {},
   "outputs": [],
   "source": [
    "res = pd.qcut(df[\"height\"], q=4, precision=0, labels=[\"25%\", \"50%\", \"75%\", \"100%\"])\n",
    "res.value_counts(sort=False).plot(kind=\"barh\")"
   ]
  },
  {
   "cell_type": "code",
   "execution_count": null,
   "metadata": {},
   "outputs": [],
   "source": [
    "\n",
    "pseu_df[\"weight\"] = pd.qcut(df[\"weight\"], q=4, precision=0, labels=[\"25%\", \"50%\", \"75%\", \"100%\"])\n",
    "pseu_df[\"height\"] = pd.qcut(df[\"height\"], q=4, precision=0, labels=[\"25%\", \"50%\", \"75%\", \"100%\"])\n",
    "pseu_df[\"base_experience\"] = pd.qcut(df[\"base_experience\"], q=4, precision=0, labels=[\"25%\", \"50%\", \"75%\", \"100%\"])\n",
    "pseu_df[\"bmi\"] = pd.qcut(df[\"bmi\"], q=4, precision=0, labels=[\"25%\", \"50%\", \"75%\", \"100%\"])"
   ]
  },
  {
   "attachments": {},
   "cell_type": "markdown",
   "metadata": {},
   "source": [
    "#### **Human friendly pseudonyms for categorical data**"
   ]
  },
  {
   "cell_type": "code",
   "execution_count": null,
   "metadata": {},
   "outputs": [],
   "source": [
    "pseu_df"
   ]
  },
  {
   "cell_type": "code",
   "execution_count": null,
   "metadata": {},
   "outputs": [],
   "source": [
    "import random\n",
    "\n",
    "pseu_df[\"types\"] = df[\"type_0\"].fillna(\"\") + df[\"type_1\"].fillna(\"\")\n",
    "res = pseu_df[\"types\"].unique()\n",
    "random_ids = {}\n",
    "\n",
    "ids = [number for number in range(0, len(res))]\n",
    "for types in res:\n",
    "    id = random.choice(ids)\n",
    "    random_ids[f\"^{types}$\"] = str(id)\n",
    "    ids.remove(id)\n",
    "\n",
    "for old, new in random_ids.items():\n",
    "    pseu_df[\"types\"] = pseu_df[\"types\"].str.replace(old, new, regex=True)\n",
    "\n"
   ]
  },
  {
   "cell_type": "code",
   "execution_count": null,
   "metadata": {},
   "outputs": [],
   "source": [
    "pseu_df"
   ]
  },
  {
   "attachments": {},
   "cell_type": "markdown",
   "metadata": {},
   "source": [
    "### **Thank you for listening!**"
   ]
  }
 ],
 "metadata": {
  "kernelspec": {
   "display_name": "env",
   "language": "python",
   "name": "python3"
  },
  "language_info": {
   "codemirror_mode": {
    "name": "ipython",
    "version": 3
   },
   "file_extension": ".py",
   "mimetype": "text/x-python",
   "name": "python",
   "nbconvert_exporter": "python",
   "pygments_lexer": "ipython3",
   "version": "3.10.10"
  },
  "orig_nbformat": 4
 },
 "nbformat": 4,
 "nbformat_minor": 2
}
